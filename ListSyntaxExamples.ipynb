{
  "nbformat": 4,
  "nbformat_minor": 0,
  "metadata": {
    "kernelspec": {
      "display_name": "Python 3",
      "language": "python",
      "name": "python3"
    },
    "language_info": {
      "codemirror_mode": {
        "name": "ipython",
        "version": 3
      },
      "file_extension": ".py",
      "mimetype": "text/x-python",
      "name": "python",
      "nbconvert_exporter": "python",
      "pygments_lexer": "ipython3",
      "version": "3.7.1"
    },
    "colab": {
      "name": "ListSyntaxExamples.ipynb",
      "provenance": [],
      "include_colab_link": true
    }
  },
  "cells": [
    {
      "cell_type": "markdown",
      "metadata": {
        "id": "view-in-github",
        "colab_type": "text"
      },
      "source": [
        "<a href=\"https://colab.research.google.com/github/tiwariamee/Machine-Learning/blob/master/ListSyntaxExamples.ipynb\" target=\"_parent\"><img src=\"https://colab.research.google.com/assets/colab-badge.svg\" alt=\"Open In Colab\"/></a>"
      ]
    },
    {
      "cell_type": "code",
      "metadata": {
        "id": "vBCx_aXC4FKg",
        "colab_type": "code",
        "colab": {},
        "outputId": "9b0bc38c-603a-417b-d6a7-aed618b2d7a6"
      },
      "source": [
        "# The list is the most versatile datatype available in Python, which can be written as a list of comma-separated values (items) between square brackets.\n",
        "# Important thing about a list is that the items in a list need not be of the same type.\n",
        "#Accessing Values in Lists \n",
        "#Syntax list(a[startingindext:endingindex])\n",
        "a = [1, 5, 10, 12, 43, 12]\n",
        "print(a[1:])\n",
        "print(a[:2])\n",
        "print(a[-1])\n",
        "print(a[:-4])\n",
        "print(a[-3:])\n",
        "print(a[2:4])        "
      ],
      "execution_count": 0,
      "outputs": [
        {
          "output_type": "stream",
          "text": [
            "[5, 10, 12, 43, 12]\n",
            "[1, 5]\n",
            "12\n",
            "[1, 5]\n",
            "[12, 43, 12]\n",
            "[10, 12]\n"
          ],
          "name": "stdout"
        }
      ]
    },
    {
      "cell_type": "code",
      "metadata": {
        "id": "Xw4lDLvV4FKs",
        "colab_type": "code",
        "colab": {},
        "outputId": "fe56df63-493a-4fc3-abf5-09389ab14fbf"
      },
      "source": [
        "# Declaring a list\n",
        "L = [1, \"a\", \"string\", 1 + 2]\n",
        "print(L)"
      ],
      "execution_count": 0,
      "outputs": [
        {
          "output_type": "stream",
          "text": [
            "[1, 'a', 'string', 3]\n"
          ],
          "name": "stdout"
        }
      ]
    },
    {
      "cell_type": "code",
      "metadata": {
        "id": "HdVKtTwi4FKx",
        "colab_type": "code",
        "colab": {},
        "outputId": "6cfedabe-fa0b-49de-f3ac-084993385ef4"
      },
      "source": [
        "# add 6 to the above list\n",
        "L.append(6)\n",
        "print(L)"
      ],
      "execution_count": 0,
      "outputs": [
        {
          "output_type": "stream",
          "text": [
            "[1, 'a', 'string', 6, 6]\n"
          ],
          "name": "stdout"
        }
      ]
    },
    {
      "cell_type": "code",
      "metadata": {
        "id": "MWvMomzM4FK2",
        "colab_type": "code",
        "colab": {},
        "outputId": "e8d85dec-714d-4a81-eec0-66961fdd4bfc"
      },
      "source": [
        "# pop deletes the last element of the list\n",
        "L.pop()\n",
        "print(L)"
      ],
      "execution_count": 0,
      "outputs": [
        {
          "output_type": "stream",
          "text": [
            "[1, 'a']\n"
          ],
          "name": "stdout"
        }
      ]
    },
    {
      "cell_type": "code",
      "metadata": {
        "id": "esepIoIV4FK6",
        "colab_type": "code",
        "colab": {},
        "outputId": "25d5b4c5-6187-413c-f00a-e0bb3ddb10ad"
      },
      "source": [
        "# Adds List Element as value of List.\n",
        "List = ['Mathematics', 'chemistry', 1997, 2000, 20544]\n",
        "List.append(20544) \n",
        "print(List)"
      ],
      "execution_count": 0,
      "outputs": [
        {
          "output_type": "stream",
          "text": [
            "['Mathematics', 'chemistry', 1997, 2000, 20544, 20544]\n"
          ],
          "name": "stdout"
        }
      ]
    },
    {
      "cell_type": "code",
      "metadata": {
        "id": "Q8n_JjG44FLB",
        "colab_type": "code",
        "colab": {},
        "outputId": "ddf4cf4b-39ca-4967-d80d-950998c30df7"
      },
      "source": [
        "# Insert List Element as value of List.\n",
        "List.insert(2, 10087)\n",
        "print(List)"
      ],
      "execution_count": 0,
      "outputs": [
        {
          "output_type": "stream",
          "text": [
            "['Mathematics', 'chemistry', 10087, 10087, 10087, 1997, 2000, 20544, 20544]\n"
          ],
          "name": "stdout"
        }
      ]
    },
    {
      "cell_type": "code",
      "metadata": {
        "id": "5nLNjrME4FLG",
        "colab_type": "code",
        "colab": {},
        "outputId": "616f56c3-b4a8-4514-d2cb-e1193b227373"
      },
      "source": [
        "# extend(): Adds contents to List2 to the end of List1.\n",
        "List1 = [1, 2, 3]\n",
        "List2 = [2, 3, 4, 5]\n",
        "\n",
        "# Add List2 to List1\n",
        "List1.extend(List2)\n",
        "print(List1)\n",
        "\n",
        "# Add List1 to List2 now\n",
        "List2.extend(List1)\n",
        "print(List2)"
      ],
      "execution_count": 0,
      "outputs": [
        {
          "output_type": "stream",
          "text": [
            "[1, 2, 3, 2, 3, 4, 5]\n",
            "[2, 3, 4, 5, 1, 2, 3, 2, 3, 4, 5]\n"
          ],
          "name": "stdout"
        }
      ]
    },
    {
      "cell_type": "code",
      "metadata": {
        "id": "y3PdeYNv4FLK",
        "colab_type": "code",
        "colab": {},
        "outputId": "86abe55f-8b6a-4507-fe59-7b6b6b77b899"
      },
      "source": [
        "List = [1, 2, 3, 4, 5]\n",
        "print(sum(List))"
      ],
      "execution_count": 0,
      "outputs": [
        {
          "output_type": "stream",
          "text": [
            "15\n"
          ],
          "name": "stdout"
        }
      ]
    },
    {
      "cell_type": "code",
      "metadata": {
        "id": "CbPiFlx94FLQ",
        "colab_type": "code",
        "colab": {},
        "outputId": "fb4c9c9b-c80e-41b0-fef0-0d72f4279c37"
      },
      "source": [
        "# count():Calculates total occurrence of given element of List.\n",
        "# Syntax List.count(element)\n",
        "List = [1, 2, 3, 1, 2, 1, 2, 3, 2, 1]\n",
        "print(List.count(1))"
      ],
      "execution_count": 0,
      "outputs": [
        {
          "output_type": "stream",
          "text": [
            "4\n"
          ],
          "name": "stdout"
        }
      ]
    },
    {
      "cell_type": "code",
      "metadata": {
        "id": "M0i_DQBA4FLV",
        "colab_type": "code",
        "colab": {},
        "outputId": "2a201c72-be16-41fd-bca4-76c010d5a17e"
      },
      "source": [
        "# length:Calculates total length of List.\n",
        "# Syntax len(list_name)\n",
        "List = [1, 2, 3, 1, 2, 1, 2, 3, 2, 1]\n",
        "print(len(List))"
      ],
      "execution_count": 0,
      "outputs": [
        {
          "output_type": "stream",
          "text": [
            "10\n"
          ],
          "name": "stdout"
        }
      ]
    },
    {
      "cell_type": "code",
      "metadata": {
        "id": "UqkHpWWJ4FLa",
        "colab_type": "code",
        "colab": {},
        "outputId": "00c34338-e197-4895-8b3d-5c71c28dc10f"
      },
      "source": [
        "# index(): Returns the index of first occurrence. Start and End index are not necessary parameters.\n",
        "# SYNTAX List.index(element[,start[,end]])\n",
        "List = [1, 2, 3, 1, 2, 1, 2, 3, 2, 1]\n",
        "print(List.index(2))\n",
        "\n",
        "List2 = [1, 2, 3, 1, 2, 1, 2, 3, 2, 1]\n",
        "print(List2.index(2, 2))\n",
        "\n",
        "List3 = [1, 2, 3, 1, 2, 1, 2, 3, 2, 1]\n",
        "# will check from index 2 to 3.\n",
        "print(List3.index(2, 1, 4))"
      ],
      "execution_count": 0,
      "outputs": [
        {
          "output_type": "stream",
          "text": [
            "1\n",
            "4\n",
            "1\n"
          ],
          "name": "stdout"
        }
      ]
    },
    {
      "cell_type": "code",
      "metadata": {
        "id": "hp9EzE3h4FLe",
        "colab_type": "code",
        "colab": {},
        "outputId": "38b057b9-b981-4b27-ba4a-bc3357918ba2"
      },
      "source": [
        "#min() : Calculates minimum of all the elements of List.\n",
        "List = [2.3, 4.445, 3, 5.33, 1.054, 2.5]\n",
        "print(min(List))"
      ],
      "execution_count": 0,
      "outputs": [
        {
          "output_type": "stream",
          "text": [
            "1.054\n"
          ],
          "name": "stdout"
        }
      ]
    },
    {
      "cell_type": "code",
      "metadata": {
        "id": "YMs7SKhv4FLj",
        "colab_type": "code",
        "colab": {},
        "outputId": "8df50732-4a25-4a08-dbab-23e9833534ae"
      },
      "source": [
        "#max(): Calculates maximum of all the elements of List.\n",
        "List = [2.3, 4.445, 3, 5.33, 1.054, 2.5]\n",
        "print(max(List))"
      ],
      "execution_count": 0,
      "outputs": [
        {
          "output_type": "stream",
          "text": [
            "5.33\n"
          ],
          "name": "stdout"
        }
      ]
    },
    {
      "cell_type": "code",
      "metadata": {
        "id": "budmHtnY4FLn",
        "colab_type": "code",
        "colab": {},
        "outputId": "351ec017-6243-4cb4-9c4b-3b9f13518851"
      },
      "source": [
        "#reverse(): Sort the given data structure (both tuple and list) in ascending order. Key and reverse_flag are not necessary parameter and reverse_flag is set to False, if nothing is passed through sorted().\n",
        "#Syntax sorted([list[,key[,Reverse_Flag]]])\n",
        "#list.sort([key,[Reverse_flag]])\n",
        "List = [2.3, 4.445, 3, 5.33, 1.054, 2.5]\n",
        "List.sort(reverse=True)\n",
        "print(List)\n",
        "List.sort(reverse=False)\n",
        "print(List)"
      ],
      "execution_count": 0,
      "outputs": [
        {
          "output_type": "stream",
          "text": [
            "[5.33, 4.445, 3, 2.5, 2.3, 1.054]\n",
            "[1.054, 2.3, 2.5, 3, 4.445, 5.33]\n"
          ],
          "name": "stdout"
        }
      ]
    },
    {
      "cell_type": "code",
      "metadata": {
        "id": "pacTYKxK4FLs",
        "colab_type": "code",
        "colab": {},
        "outputId": "5a44176a-1714-406f-a156-657b6edce67b"
      },
      "source": [
        "List = [2.3, 4.445, 3, 5.33, 1.054, 2.5]\n",
        "print(sorted(List))"
      ],
      "execution_count": 0,
      "outputs": [
        {
          "output_type": "stream",
          "text": [
            "[1.054, 2.3, 2.5, 3, 4.445, 5.33]\n"
          ],
          "name": "stdout"
        }
      ]
    },
    {
      "cell_type": "code",
      "metadata": {
        "id": "xKYa-f8N4FLw",
        "colab_type": "code",
        "colab": {},
        "outputId": "45c342a9-e75e-4a5e-86e2-bc5e3993775e"
      },
      "source": [
        "#To Delete one or more elements, i.e. remove an element, many built in functions can be used, such as pop() & remove() \n",
        "# and keywords such as del.\n",
        "#syntax  list.pop([index])\n",
        "List = [2.3, 4.445, 3, 5.33, 1.054, 2.5]\n",
        "print(List.pop(1))\n",
        "List"
      ],
      "execution_count": 0,
      "outputs": [
        {
          "output_type": "stream",
          "text": [
            "4.445\n"
          ],
          "name": "stdout"
        },
        {
          "output_type": "execute_result",
          "data": {
            "text/plain": [
              "[2.3, 3, 5.33, 1.054, 2.5]"
            ]
          },
          "metadata": {
            "tags": []
          },
          "execution_count": 114
        }
      ]
    },
    {
      "cell_type": "code",
      "metadata": {
        "id": "E1FeB_384FL1",
        "colab_type": "code",
        "colab": {},
        "outputId": "4577c657-b386-434d-c8fa-82953502fcfe"
      },
      "source": [
        "#remove(): Element to be deleted is mentioned using list name and element.\n",
        "#syntax list.remove(element)\n",
        "List = [2.3, 4.445, 3, 5.33, 1.054, 2.5]\n",
        "List.remove(3)\n",
        "print(List)"
      ],
      "execution_count": 0,
      "outputs": [
        {
          "output_type": "stream",
          "text": [
            "[2.3, 4.445, 5.33, 1.054, 2.5]\n"
          ],
          "name": "stdout"
        }
      ]
    },
    {
      "cell_type": "code",
      "metadata": {
        "id": "KfDAl8uR4FL5",
        "colab_type": "code",
        "colab": {},
        "outputId": "ce48640d-04a6-4d5a-e90a-f0ba9ad6beff"
      },
      "source": [
        "#\"in\" operator:- This operator is used to check if an element is present in the list or not. Returns true if element is present in list else returns false.\n",
        "#2\"not in\" operator:- This operator is used to check if an element is not present in the list or not. Returns true if element is not present in list else returns false.\n",
        "lis = [1, 4, 3, 2, 5]\n",
        "# checking if 4 is in list using \"in\"\n",
        "if 4 in lis:\n",
        "    print(\"List is having element with value 4\")\n",
        "else:\n",
        "    print(\"List is not having element with value 4\")\n",
        "\n",
        "# checking if 4 is not list using \"not in\"\n",
        "if 10 not in lis:\n",
        "    print(\"List is not having element with value 10\")\n",
        "else:\n",
        "    print(\"List is having element with value 10\")"
      ],
      "execution_count": 0,
      "outputs": [
        {
          "output_type": "stream",
          "text": [
            "List is having element with value 4\n",
            "List is not having element with value 10\n"
          ],
          "name": "stdout"
        }
      ]
    }
  ]
}